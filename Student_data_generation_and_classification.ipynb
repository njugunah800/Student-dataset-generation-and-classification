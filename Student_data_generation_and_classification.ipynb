{
  "nbformat": 4,
  "nbformat_minor": 0,
  "metadata": {
    "colab": {
      "provenance": [],
      "authorship_tag": "ABX9TyPRGPz172FG2u/uZdWJP7IX",
      "include_colab_link": true
    },
    "kernelspec": {
      "name": "python3",
      "display_name": "Python 3"
    },
    "language_info": {
      "name": "python"
    }
  },
  "cells": [
    {
      "cell_type": "markdown",
      "metadata": {
        "id": "view-in-github",
        "colab_type": "text"
      },
      "source": [
        "<a href=\"https://colab.research.google.com/github/njugunah800/Student-dataset-generation-and-classification/blob/main/Student_data_generation_and_classification.ipynb\" target=\"_parent\"><img src=\"https://colab.research.google.com/assets/colab-badge.svg\" alt=\"Open In Colab\"/></a>"
      ]
    },
    {
      "cell_type": "code",
      "execution_count": 1,
      "metadata": {
        "colab": {
          "base_uri": "https://localhost:8080/"
        },
        "id": "KhVmZyxhgjYR",
        "outputId": "00a801ba-b011-4983-b483-14502e9b5aa8"
      },
      "outputs": [
        {
          "output_type": "stream",
          "name": "stdout",
          "text": [
            "Dataset created and saved as ZETECH_UNIVERSITY_GRADUATION_DATASET.csv\n"
          ]
        }
      ],
      "source": [
        "import pandas as pd\n",
        "import random\n",
        "\n",
        "# List of possible names\n",
        "names = ['Ken', 'Ian', 'Moses', 'Alice', 'Emma', 'Sophia', 'Liam', 'Noah', 'Olivia', 'Ava']\n",
        "\n",
        "# List of possible courses\n",
        "courses = ['BCS', 'BED', 'BCM', 'BES', 'BAS']\n",
        "\n",
        "# Generate random data for 120 students\n",
        "data = []\n",
        "for _ in range(120):\n",
        "    name = random.choice(names)\n",
        "    course = random.choice(courses)\n",
        "    reg_number = course + str(random.randint(1000, 9999))\n",
        "    marks = [random.randint(0, 100) for _ in range(8)]  # Marks for 8 semesters\n",
        "\n",
        "    row = [name, course, reg_number] + marks\n",
        "    data.append(row)\n",
        "\n",
        "# Create a DataFrame\n",
        "columns = ['Name', 'Course', 'Registration_Number', 'Semester1', 'Semester2', 'Semester3', 'Semester4', 'Semester5', 'Semester6', 'Semester7', 'Semester8']\n",
        "df = pd.DataFrame(data, columns=columns)\n",
        "\n",
        "# Save the DataFrame as a CSV file\n",
        "df.to_csv('ZETECH_UNIVERSITY_GRADUATION_DATASET.csv', index=False)\n",
        "\n",
        "print(\"Dataset created and saved as ZETECH_UNIVERSITY_GRADUATION_DATASET.csv\")\n"
      ]
    },
    {
      "cell_type": "code",
      "source": [
        "import pandas as pd\n",
        "\n",
        "# Load the dataset\n",
        "df = pd.read_csv('ZETECH_UNIVERSITY_GRADUATION_DATASET.csv')\n",
        "\n",
        "# Calculate average marks for each student\n",
        "df['Average_Marks'] = df[['Semester1', 'Semester2', 'Semester3', 'Semester4', 'Semester5', 'Semester6', 'Semester7', 'Semester8']].mean(axis=1)\n",
        "\n",
        "# Classify students based on average marks\n",
        "def classify_grades(average_marks):\n",
        "    if average_marks >= 70:\n",
        "        return 'First Class Honors'\n",
        "    elif 60 <= average_marks < 70:\n",
        "        return 'Second Upper Division Honors'\n",
        "    elif 50 <= average_marks < 60:\n",
        "        return 'Second Lower Division Honors'\n",
        "    else:\n",
        "        return 'Pass'\n",
        "\n",
        "df['Grade'] = df['Average_Marks'].apply(classify_grades)\n",
        "\n",
        "# Save the updated dataset with grades\n",
        "df.to_csv(' CLASSIFIED ZETECH_UNIVERSITY_GRADUATION_DATASET_WITH_GRADES.csv', index=False)\n",
        "\n",
        "print(\"Dataset classified and saved as ZETECH_UNIVERSITY_GRADUATION_DATASET_WITH_GRADES.csv\")\n"
      ],
      "metadata": {
        "colab": {
          "base_uri": "https://localhost:8080/"
        },
        "id": "hZaPknfZgwAv",
        "outputId": "04d7290d-b8c1-48d1-be15-8610ab66611c"
      },
      "execution_count": 2,
      "outputs": [
        {
          "output_type": "stream",
          "name": "stdout",
          "text": [
            "Dataset classified and saved as ZETECH_UNIVERSITY_GRADUATION_DATASET_WITH_GRADES.csv\n"
          ]
        }
      ]
    }
  ]
}